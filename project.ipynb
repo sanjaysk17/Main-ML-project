{
 "cells": [
  {
   "cell_type": "code",
   "execution_count": 96,
   "id": "421b92d3",
   "metadata": {},
   "outputs": [],
   "source": [
    "import pandas as pd\n",
    "import  numpy as np\n",
    "import seaborn as sns\n",
    "import matplotlib.pyplot as plt\n",
    "from sklearn.model_selection import train_test_split\n",
    "from sklearn.preprocessing import StandardScaler\n",
    "from sklearn.model_selection import GridSearchCV\n",
    "df=pd.read_csv(r\"C:\\Users\\sanja\\Desktop\\Main Project\\concrete_data.csv\")"
   ]
  },
  {
   "cell_type": "markdown",
   "id": "487a6bed",
   "metadata": {},
   "source": [
    "DATA PREPROCESSING"
   ]
  },
  {
   "cell_type": "code",
   "execution_count": 97,
   "id": "7199fab2",
   "metadata": {},
   "outputs": [
    {
     "data": {
      "text/html": [
       "<div>\n",
       "<style scoped>\n",
       "    .dataframe tbody tr th:only-of-type {\n",
       "        vertical-align: middle;\n",
       "    }\n",
       "\n",
       "    .dataframe tbody tr th {\n",
       "        vertical-align: top;\n",
       "    }\n",
       "\n",
       "    .dataframe thead th {\n",
       "        text-align: right;\n",
       "    }\n",
       "</style>\n",
       "<table border=\"1\" class=\"dataframe\">\n",
       "  <thead>\n",
       "    <tr style=\"text-align: right;\">\n",
       "      <th></th>\n",
       "      <th>cement</th>\n",
       "      <th>blast_furnace_slag</th>\n",
       "      <th>fly_ash</th>\n",
       "      <th>water</th>\n",
       "      <th>superplasticizer</th>\n",
       "      <th>coarse_aggregate</th>\n",
       "      <th>fine_aggregate</th>\n",
       "      <th>age</th>\n",
       "      <th>concrete_compressive_strength</th>\n",
       "    </tr>\n",
       "  </thead>\n",
       "  <tbody>\n",
       "    <tr>\n",
       "      <th>0</th>\n",
       "      <td>540.0</td>\n",
       "      <td>0.0</td>\n",
       "      <td>0.0</td>\n",
       "      <td>162.0</td>\n",
       "      <td>2.5</td>\n",
       "      <td>1040.0</td>\n",
       "      <td>676.0</td>\n",
       "      <td>28</td>\n",
       "      <td>79.99</td>\n",
       "    </tr>\n",
       "    <tr>\n",
       "      <th>1</th>\n",
       "      <td>540.0</td>\n",
       "      <td>0.0</td>\n",
       "      <td>0.0</td>\n",
       "      <td>162.0</td>\n",
       "      <td>2.5</td>\n",
       "      <td>1055.0</td>\n",
       "      <td>676.0</td>\n",
       "      <td>28</td>\n",
       "      <td>61.89</td>\n",
       "    </tr>\n",
       "    <tr>\n",
       "      <th>2</th>\n",
       "      <td>332.5</td>\n",
       "      <td>142.5</td>\n",
       "      <td>0.0</td>\n",
       "      <td>228.0</td>\n",
       "      <td>0.0</td>\n",
       "      <td>932.0</td>\n",
       "      <td>594.0</td>\n",
       "      <td>270</td>\n",
       "      <td>40.27</td>\n",
       "    </tr>\n",
       "    <tr>\n",
       "      <th>3</th>\n",
       "      <td>332.5</td>\n",
       "      <td>142.5</td>\n",
       "      <td>0.0</td>\n",
       "      <td>228.0</td>\n",
       "      <td>0.0</td>\n",
       "      <td>932.0</td>\n",
       "      <td>594.0</td>\n",
       "      <td>365</td>\n",
       "      <td>41.05</td>\n",
       "    </tr>\n",
       "    <tr>\n",
       "      <th>4</th>\n",
       "      <td>198.6</td>\n",
       "      <td>132.4</td>\n",
       "      <td>0.0</td>\n",
       "      <td>192.0</td>\n",
       "      <td>0.0</td>\n",
       "      <td>978.4</td>\n",
       "      <td>825.5</td>\n",
       "      <td>360</td>\n",
       "      <td>44.30</td>\n",
       "    </tr>\n",
       "    <tr>\n",
       "      <th>...</th>\n",
       "      <td>...</td>\n",
       "      <td>...</td>\n",
       "      <td>...</td>\n",
       "      <td>...</td>\n",
       "      <td>...</td>\n",
       "      <td>...</td>\n",
       "      <td>...</td>\n",
       "      <td>...</td>\n",
       "      <td>...</td>\n",
       "    </tr>\n",
       "    <tr>\n",
       "      <th>1025</th>\n",
       "      <td>276.4</td>\n",
       "      <td>116.0</td>\n",
       "      <td>90.3</td>\n",
       "      <td>179.6</td>\n",
       "      <td>8.9</td>\n",
       "      <td>870.1</td>\n",
       "      <td>768.3</td>\n",
       "      <td>28</td>\n",
       "      <td>44.28</td>\n",
       "    </tr>\n",
       "    <tr>\n",
       "      <th>1026</th>\n",
       "      <td>322.2</td>\n",
       "      <td>0.0</td>\n",
       "      <td>115.6</td>\n",
       "      <td>196.0</td>\n",
       "      <td>10.4</td>\n",
       "      <td>817.9</td>\n",
       "      <td>813.4</td>\n",
       "      <td>28</td>\n",
       "      <td>31.18</td>\n",
       "    </tr>\n",
       "    <tr>\n",
       "      <th>1027</th>\n",
       "      <td>148.5</td>\n",
       "      <td>139.4</td>\n",
       "      <td>108.6</td>\n",
       "      <td>192.7</td>\n",
       "      <td>6.1</td>\n",
       "      <td>892.4</td>\n",
       "      <td>780.0</td>\n",
       "      <td>28</td>\n",
       "      <td>23.70</td>\n",
       "    </tr>\n",
       "    <tr>\n",
       "      <th>1028</th>\n",
       "      <td>159.1</td>\n",
       "      <td>186.7</td>\n",
       "      <td>0.0</td>\n",
       "      <td>175.6</td>\n",
       "      <td>11.3</td>\n",
       "      <td>989.6</td>\n",
       "      <td>788.9</td>\n",
       "      <td>28</td>\n",
       "      <td>32.77</td>\n",
       "    </tr>\n",
       "    <tr>\n",
       "      <th>1029</th>\n",
       "      <td>260.9</td>\n",
       "      <td>100.5</td>\n",
       "      <td>78.3</td>\n",
       "      <td>200.6</td>\n",
       "      <td>8.6</td>\n",
       "      <td>864.5</td>\n",
       "      <td>761.5</td>\n",
       "      <td>28</td>\n",
       "      <td>32.40</td>\n",
       "    </tr>\n",
       "  </tbody>\n",
       "</table>\n",
       "<p>1030 rows × 9 columns</p>\n",
       "</div>"
      ],
      "text/plain": [
       "      cement  blast_furnace_slag  fly_ash  water  superplasticizer  \\\n",
       "0      540.0                 0.0      0.0  162.0               2.5   \n",
       "1      540.0                 0.0      0.0  162.0               2.5   \n",
       "2      332.5               142.5      0.0  228.0               0.0   \n",
       "3      332.5               142.5      0.0  228.0               0.0   \n",
       "4      198.6               132.4      0.0  192.0               0.0   \n",
       "...      ...                 ...      ...    ...               ...   \n",
       "1025   276.4               116.0     90.3  179.6               8.9   \n",
       "1026   322.2                 0.0    115.6  196.0              10.4   \n",
       "1027   148.5               139.4    108.6  192.7               6.1   \n",
       "1028   159.1               186.7      0.0  175.6              11.3   \n",
       "1029   260.9               100.5     78.3  200.6               8.6   \n",
       "\n",
       "      coarse_aggregate  fine_aggregate   age  concrete_compressive_strength  \n",
       "0               1040.0            676.0   28                          79.99  \n",
       "1               1055.0            676.0   28                          61.89  \n",
       "2                932.0            594.0  270                          40.27  \n",
       "3                932.0            594.0  365                          41.05  \n",
       "4                978.4            825.5  360                          44.30  \n",
       "...                ...              ...  ...                            ...  \n",
       "1025             870.1            768.3   28                          44.28  \n",
       "1026             817.9            813.4   28                          31.18  \n",
       "1027             892.4            780.0   28                          23.70  \n",
       "1028             989.6            788.9   28                          32.77  \n",
       "1029             864.5            761.5   28                          32.40  \n",
       "\n",
       "[1030 rows x 9 columns]"
      ]
     },
     "execution_count": 97,
     "metadata": {},
     "output_type": "execute_result"
    }
   ],
   "source": [
    "df"
   ]
  },
  {
   "cell_type": "code",
   "execution_count": 98,
   "id": "2c7a557d",
   "metadata": {},
   "outputs": [
    {
     "data": {
      "text/plain": [
       "(1030, 9)"
      ]
     },
     "execution_count": 98,
     "metadata": {},
     "output_type": "execute_result"
    }
   ],
   "source": [
    "df.shape"
   ]
  },
  {
   "cell_type": "code",
   "execution_count": 99,
   "id": "790bd06f",
   "metadata": {},
   "outputs": [
    {
     "data": {
      "text/plain": [
       "cement                           0\n",
       "blast_furnace_slag               0\n",
       "fly_ash                          0\n",
       "water                            0\n",
       "superplasticizer                 0\n",
       "coarse_aggregate                 0\n",
       "fine_aggregate                   0\n",
       "age                              0\n",
       "concrete_compressive_strength    0\n",
       "dtype: int64"
      ]
     },
     "execution_count": 99,
     "metadata": {},
     "output_type": "execute_result"
    }
   ],
   "source": [
    "df.isnull().sum()"
   ]
  },
  {
   "cell_type": "code",
   "execution_count": 100,
   "id": "9608ce50",
   "metadata": {},
   "outputs": [
    {
     "data": {
      "text/html": [
       "<div>\n",
       "<style scoped>\n",
       "    .dataframe tbody tr th:only-of-type {\n",
       "        vertical-align: middle;\n",
       "    }\n",
       "\n",
       "    .dataframe tbody tr th {\n",
       "        vertical-align: top;\n",
       "    }\n",
       "\n",
       "    .dataframe thead th {\n",
       "        text-align: right;\n",
       "    }\n",
       "</style>\n",
       "<table border=\"1\" class=\"dataframe\">\n",
       "  <thead>\n",
       "    <tr style=\"text-align: right;\">\n",
       "      <th></th>\n",
       "      <th>cement</th>\n",
       "      <th>blast_furnace_slag</th>\n",
       "      <th>fly_ash</th>\n",
       "      <th>water</th>\n",
       "      <th>superplasticizer</th>\n",
       "      <th>coarse_aggregate</th>\n",
       "      <th>fine_aggregate</th>\n",
       "      <th>age</th>\n",
       "      <th>concrete_compressive_strength</th>\n",
       "    </tr>\n",
       "  </thead>\n",
       "  <tbody>\n",
       "    <tr>\n",
       "      <th>77</th>\n",
       "      <td>425.0</td>\n",
       "      <td>106.3</td>\n",
       "      <td>0.0</td>\n",
       "      <td>153.5</td>\n",
       "      <td>16.5</td>\n",
       "      <td>852.1</td>\n",
       "      <td>887.1</td>\n",
       "      <td>3</td>\n",
       "      <td>33.40</td>\n",
       "    </tr>\n",
       "    <tr>\n",
       "      <th>80</th>\n",
       "      <td>425.0</td>\n",
       "      <td>106.3</td>\n",
       "      <td>0.0</td>\n",
       "      <td>153.5</td>\n",
       "      <td>16.5</td>\n",
       "      <td>852.1</td>\n",
       "      <td>887.1</td>\n",
       "      <td>3</td>\n",
       "      <td>33.40</td>\n",
       "    </tr>\n",
       "    <tr>\n",
       "      <th>86</th>\n",
       "      <td>362.6</td>\n",
       "      <td>189.0</td>\n",
       "      <td>0.0</td>\n",
       "      <td>164.9</td>\n",
       "      <td>11.6</td>\n",
       "      <td>944.7</td>\n",
       "      <td>755.8</td>\n",
       "      <td>3</td>\n",
       "      <td>35.30</td>\n",
       "    </tr>\n",
       "    <tr>\n",
       "      <th>88</th>\n",
       "      <td>362.6</td>\n",
       "      <td>189.0</td>\n",
       "      <td>0.0</td>\n",
       "      <td>164.9</td>\n",
       "      <td>11.6</td>\n",
       "      <td>944.7</td>\n",
       "      <td>755.8</td>\n",
       "      <td>3</td>\n",
       "      <td>35.30</td>\n",
       "    </tr>\n",
       "    <tr>\n",
       "      <th>91</th>\n",
       "      <td>362.6</td>\n",
       "      <td>189.0</td>\n",
       "      <td>0.0</td>\n",
       "      <td>164.9</td>\n",
       "      <td>11.6</td>\n",
       "      <td>944.7</td>\n",
       "      <td>755.8</td>\n",
       "      <td>3</td>\n",
       "      <td>35.30</td>\n",
       "    </tr>\n",
       "    <tr>\n",
       "      <th>100</th>\n",
       "      <td>425.0</td>\n",
       "      <td>106.3</td>\n",
       "      <td>0.0</td>\n",
       "      <td>153.5</td>\n",
       "      <td>16.5</td>\n",
       "      <td>852.1</td>\n",
       "      <td>887.1</td>\n",
       "      <td>7</td>\n",
       "      <td>49.20</td>\n",
       "    </tr>\n",
       "    <tr>\n",
       "      <th>103</th>\n",
       "      <td>425.0</td>\n",
       "      <td>106.3</td>\n",
       "      <td>0.0</td>\n",
       "      <td>153.5</td>\n",
       "      <td>16.5</td>\n",
       "      <td>852.1</td>\n",
       "      <td>887.1</td>\n",
       "      <td>7</td>\n",
       "      <td>49.20</td>\n",
       "    </tr>\n",
       "    <tr>\n",
       "      <th>109</th>\n",
       "      <td>362.6</td>\n",
       "      <td>189.0</td>\n",
       "      <td>0.0</td>\n",
       "      <td>164.9</td>\n",
       "      <td>11.6</td>\n",
       "      <td>944.7</td>\n",
       "      <td>755.8</td>\n",
       "      <td>7</td>\n",
       "      <td>55.90</td>\n",
       "    </tr>\n",
       "    <tr>\n",
       "      <th>111</th>\n",
       "      <td>362.6</td>\n",
       "      <td>189.0</td>\n",
       "      <td>0.0</td>\n",
       "      <td>164.9</td>\n",
       "      <td>11.6</td>\n",
       "      <td>944.7</td>\n",
       "      <td>755.8</td>\n",
       "      <td>7</td>\n",
       "      <td>55.90</td>\n",
       "    </tr>\n",
       "    <tr>\n",
       "      <th>123</th>\n",
       "      <td>425.0</td>\n",
       "      <td>106.3</td>\n",
       "      <td>0.0</td>\n",
       "      <td>153.5</td>\n",
       "      <td>16.5</td>\n",
       "      <td>852.1</td>\n",
       "      <td>887.1</td>\n",
       "      <td>28</td>\n",
       "      <td>60.29</td>\n",
       "    </tr>\n",
       "    <tr>\n",
       "      <th>126</th>\n",
       "      <td>425.0</td>\n",
       "      <td>106.3</td>\n",
       "      <td>0.0</td>\n",
       "      <td>153.5</td>\n",
       "      <td>16.5</td>\n",
       "      <td>852.1</td>\n",
       "      <td>887.1</td>\n",
       "      <td>28</td>\n",
       "      <td>60.29</td>\n",
       "    </tr>\n",
       "    <tr>\n",
       "      <th>132</th>\n",
       "      <td>362.6</td>\n",
       "      <td>189.0</td>\n",
       "      <td>0.0</td>\n",
       "      <td>164.9</td>\n",
       "      <td>11.6</td>\n",
       "      <td>944.7</td>\n",
       "      <td>755.8</td>\n",
       "      <td>28</td>\n",
       "      <td>71.30</td>\n",
       "    </tr>\n",
       "    <tr>\n",
       "      <th>134</th>\n",
       "      <td>362.6</td>\n",
       "      <td>189.0</td>\n",
       "      <td>0.0</td>\n",
       "      <td>164.9</td>\n",
       "      <td>11.6</td>\n",
       "      <td>944.7</td>\n",
       "      <td>755.8</td>\n",
       "      <td>28</td>\n",
       "      <td>71.30</td>\n",
       "    </tr>\n",
       "    <tr>\n",
       "      <th>137</th>\n",
       "      <td>362.6</td>\n",
       "      <td>189.0</td>\n",
       "      <td>0.0</td>\n",
       "      <td>164.9</td>\n",
       "      <td>11.6</td>\n",
       "      <td>944.7</td>\n",
       "      <td>755.8</td>\n",
       "      <td>28</td>\n",
       "      <td>71.30</td>\n",
       "    </tr>\n",
       "    <tr>\n",
       "      <th>146</th>\n",
       "      <td>425.0</td>\n",
       "      <td>106.3</td>\n",
       "      <td>0.0</td>\n",
       "      <td>153.5</td>\n",
       "      <td>16.5</td>\n",
       "      <td>852.1</td>\n",
       "      <td>887.1</td>\n",
       "      <td>56</td>\n",
       "      <td>64.30</td>\n",
       "    </tr>\n",
       "    <tr>\n",
       "      <th>149</th>\n",
       "      <td>425.0</td>\n",
       "      <td>106.3</td>\n",
       "      <td>0.0</td>\n",
       "      <td>153.5</td>\n",
       "      <td>16.5</td>\n",
       "      <td>852.1</td>\n",
       "      <td>887.1</td>\n",
       "      <td>56</td>\n",
       "      <td>64.30</td>\n",
       "    </tr>\n",
       "    <tr>\n",
       "      <th>155</th>\n",
       "      <td>362.6</td>\n",
       "      <td>189.0</td>\n",
       "      <td>0.0</td>\n",
       "      <td>164.9</td>\n",
       "      <td>11.6</td>\n",
       "      <td>944.7</td>\n",
       "      <td>755.8</td>\n",
       "      <td>56</td>\n",
       "      <td>77.30</td>\n",
       "    </tr>\n",
       "    <tr>\n",
       "      <th>157</th>\n",
       "      <td>362.6</td>\n",
       "      <td>189.0</td>\n",
       "      <td>0.0</td>\n",
       "      <td>164.9</td>\n",
       "      <td>11.6</td>\n",
       "      <td>944.7</td>\n",
       "      <td>755.8</td>\n",
       "      <td>56</td>\n",
       "      <td>77.30</td>\n",
       "    </tr>\n",
       "    <tr>\n",
       "      <th>160</th>\n",
       "      <td>362.6</td>\n",
       "      <td>189.0</td>\n",
       "      <td>0.0</td>\n",
       "      <td>164.9</td>\n",
       "      <td>11.6</td>\n",
       "      <td>944.7</td>\n",
       "      <td>755.8</td>\n",
       "      <td>56</td>\n",
       "      <td>77.30</td>\n",
       "    </tr>\n",
       "    <tr>\n",
       "      <th>169</th>\n",
       "      <td>425.0</td>\n",
       "      <td>106.3</td>\n",
       "      <td>0.0</td>\n",
       "      <td>153.5</td>\n",
       "      <td>16.5</td>\n",
       "      <td>852.1</td>\n",
       "      <td>887.1</td>\n",
       "      <td>91</td>\n",
       "      <td>65.20</td>\n",
       "    </tr>\n",
       "    <tr>\n",
       "      <th>172</th>\n",
       "      <td>425.0</td>\n",
       "      <td>106.3</td>\n",
       "      <td>0.0</td>\n",
       "      <td>153.5</td>\n",
       "      <td>16.5</td>\n",
       "      <td>852.1</td>\n",
       "      <td>887.1</td>\n",
       "      <td>91</td>\n",
       "      <td>65.20</td>\n",
       "    </tr>\n",
       "    <tr>\n",
       "      <th>177</th>\n",
       "      <td>362.6</td>\n",
       "      <td>189.0</td>\n",
       "      <td>0.0</td>\n",
       "      <td>164.9</td>\n",
       "      <td>11.6</td>\n",
       "      <td>944.7</td>\n",
       "      <td>755.8</td>\n",
       "      <td>91</td>\n",
       "      <td>79.30</td>\n",
       "    </tr>\n",
       "    <tr>\n",
       "      <th>179</th>\n",
       "      <td>362.6</td>\n",
       "      <td>189.0</td>\n",
       "      <td>0.0</td>\n",
       "      <td>164.9</td>\n",
       "      <td>11.6</td>\n",
       "      <td>944.7</td>\n",
       "      <td>755.8</td>\n",
       "      <td>91</td>\n",
       "      <td>79.30</td>\n",
       "    </tr>\n",
       "    <tr>\n",
       "      <th>182</th>\n",
       "      <td>362.6</td>\n",
       "      <td>189.0</td>\n",
       "      <td>0.0</td>\n",
       "      <td>164.9</td>\n",
       "      <td>11.6</td>\n",
       "      <td>944.7</td>\n",
       "      <td>755.8</td>\n",
       "      <td>91</td>\n",
       "      <td>79.30</td>\n",
       "    </tr>\n",
       "    <tr>\n",
       "      <th>809</th>\n",
       "      <td>252.0</td>\n",
       "      <td>0.0</td>\n",
       "      <td>0.0</td>\n",
       "      <td>185.0</td>\n",
       "      <td>0.0</td>\n",
       "      <td>1111.0</td>\n",
       "      <td>784.0</td>\n",
       "      <td>28</td>\n",
       "      <td>19.69</td>\n",
       "    </tr>\n",
       "  </tbody>\n",
       "</table>\n",
       "</div>"
      ],
      "text/plain": [
       "     cement  blast_furnace_slag  fly_ash  water  superplasticizer  \\\n",
       "77    425.0               106.3      0.0  153.5              16.5   \n",
       "80    425.0               106.3      0.0  153.5              16.5   \n",
       "86    362.6               189.0      0.0  164.9              11.6   \n",
       "88    362.6               189.0      0.0  164.9              11.6   \n",
       "91    362.6               189.0      0.0  164.9              11.6   \n",
       "100   425.0               106.3      0.0  153.5              16.5   \n",
       "103   425.0               106.3      0.0  153.5              16.5   \n",
       "109   362.6               189.0      0.0  164.9              11.6   \n",
       "111   362.6               189.0      0.0  164.9              11.6   \n",
       "123   425.0               106.3      0.0  153.5              16.5   \n",
       "126   425.0               106.3      0.0  153.5              16.5   \n",
       "132   362.6               189.0      0.0  164.9              11.6   \n",
       "134   362.6               189.0      0.0  164.9              11.6   \n",
       "137   362.6               189.0      0.0  164.9              11.6   \n",
       "146   425.0               106.3      0.0  153.5              16.5   \n",
       "149   425.0               106.3      0.0  153.5              16.5   \n",
       "155   362.6               189.0      0.0  164.9              11.6   \n",
       "157   362.6               189.0      0.0  164.9              11.6   \n",
       "160   362.6               189.0      0.0  164.9              11.6   \n",
       "169   425.0               106.3      0.0  153.5              16.5   \n",
       "172   425.0               106.3      0.0  153.5              16.5   \n",
       "177   362.6               189.0      0.0  164.9              11.6   \n",
       "179   362.6               189.0      0.0  164.9              11.6   \n",
       "182   362.6               189.0      0.0  164.9              11.6   \n",
       "809   252.0                 0.0      0.0  185.0               0.0   \n",
       "\n",
       "     coarse_aggregate  fine_aggregate   age  concrete_compressive_strength  \n",
       "77              852.1            887.1    3                          33.40  \n",
       "80              852.1            887.1    3                          33.40  \n",
       "86              944.7            755.8    3                          35.30  \n",
       "88              944.7            755.8    3                          35.30  \n",
       "91              944.7            755.8    3                          35.30  \n",
       "100             852.1            887.1    7                          49.20  \n",
       "103             852.1            887.1    7                          49.20  \n",
       "109             944.7            755.8    7                          55.90  \n",
       "111             944.7            755.8    7                          55.90  \n",
       "123             852.1            887.1   28                          60.29  \n",
       "126             852.1            887.1   28                          60.29  \n",
       "132             944.7            755.8   28                          71.30  \n",
       "134             944.7            755.8   28                          71.30  \n",
       "137             944.7            755.8   28                          71.30  \n",
       "146             852.1            887.1   56                          64.30  \n",
       "149             852.1            887.1   56                          64.30  \n",
       "155             944.7            755.8   56                          77.30  \n",
       "157             944.7            755.8   56                          77.30  \n",
       "160             944.7            755.8   56                          77.30  \n",
       "169             852.1            887.1   91                          65.20  \n",
       "172             852.1            887.1   91                          65.20  \n",
       "177             944.7            755.8   91                          79.30  \n",
       "179             944.7            755.8   91                          79.30  \n",
       "182             944.7            755.8   91                          79.30  \n",
       "809            1111.0            784.0   28                          19.69  "
      ]
     },
     "execution_count": 100,
     "metadata": {},
     "output_type": "execute_result"
    }
   ],
   "source": [
    "df[df.duplicated()]"
   ]
  },
  {
   "cell_type": "code",
   "execution_count": 101,
   "id": "64c4aa4e",
   "metadata": {},
   "outputs": [
    {
     "data": {
      "text/html": [
       "<div>\n",
       "<style scoped>\n",
       "    .dataframe tbody tr th:only-of-type {\n",
       "        vertical-align: middle;\n",
       "    }\n",
       "\n",
       "    .dataframe tbody tr th {\n",
       "        vertical-align: top;\n",
       "    }\n",
       "\n",
       "    .dataframe thead th {\n",
       "        text-align: right;\n",
       "    }\n",
       "</style>\n",
       "<table border=\"1\" class=\"dataframe\">\n",
       "  <thead>\n",
       "    <tr style=\"text-align: right;\">\n",
       "      <th></th>\n",
       "      <th>cement</th>\n",
       "      <th>blast_furnace_slag</th>\n",
       "      <th>fly_ash</th>\n",
       "      <th>water</th>\n",
       "      <th>superplasticizer</th>\n",
       "      <th>coarse_aggregate</th>\n",
       "      <th>fine_aggregate</th>\n",
       "      <th>age</th>\n",
       "      <th>concrete_compressive_strength</th>\n",
       "    </tr>\n",
       "  </thead>\n",
       "  <tbody>\n",
       "    <tr>\n",
       "      <th>0</th>\n",
       "      <td>540.0</td>\n",
       "      <td>0.0</td>\n",
       "      <td>0.0</td>\n",
       "      <td>162.0</td>\n",
       "      <td>2.5</td>\n",
       "      <td>1040.0</td>\n",
       "      <td>676.0</td>\n",
       "      <td>28</td>\n",
       "      <td>79.99</td>\n",
       "    </tr>\n",
       "    <tr>\n",
       "      <th>1</th>\n",
       "      <td>540.0</td>\n",
       "      <td>0.0</td>\n",
       "      <td>0.0</td>\n",
       "      <td>162.0</td>\n",
       "      <td>2.5</td>\n",
       "      <td>1055.0</td>\n",
       "      <td>676.0</td>\n",
       "      <td>28</td>\n",
       "      <td>61.89</td>\n",
       "    </tr>\n",
       "    <tr>\n",
       "      <th>2</th>\n",
       "      <td>332.5</td>\n",
       "      <td>142.5</td>\n",
       "      <td>0.0</td>\n",
       "      <td>228.0</td>\n",
       "      <td>0.0</td>\n",
       "      <td>932.0</td>\n",
       "      <td>594.0</td>\n",
       "      <td>270</td>\n",
       "      <td>40.27</td>\n",
       "    </tr>\n",
       "    <tr>\n",
       "      <th>3</th>\n",
       "      <td>332.5</td>\n",
       "      <td>142.5</td>\n",
       "      <td>0.0</td>\n",
       "      <td>228.0</td>\n",
       "      <td>0.0</td>\n",
       "      <td>932.0</td>\n",
       "      <td>594.0</td>\n",
       "      <td>365</td>\n",
       "      <td>41.05</td>\n",
       "    </tr>\n",
       "    <tr>\n",
       "      <th>4</th>\n",
       "      <td>198.6</td>\n",
       "      <td>132.4</td>\n",
       "      <td>0.0</td>\n",
       "      <td>192.0</td>\n",
       "      <td>0.0</td>\n",
       "      <td>978.4</td>\n",
       "      <td>825.5</td>\n",
       "      <td>360</td>\n",
       "      <td>44.30</td>\n",
       "    </tr>\n",
       "    <tr>\n",
       "      <th>...</th>\n",
       "      <td>...</td>\n",
       "      <td>...</td>\n",
       "      <td>...</td>\n",
       "      <td>...</td>\n",
       "      <td>...</td>\n",
       "      <td>...</td>\n",
       "      <td>...</td>\n",
       "      <td>...</td>\n",
       "      <td>...</td>\n",
       "    </tr>\n",
       "    <tr>\n",
       "      <th>1000</th>\n",
       "      <td>276.4</td>\n",
       "      <td>116.0</td>\n",
       "      <td>90.3</td>\n",
       "      <td>179.6</td>\n",
       "      <td>8.9</td>\n",
       "      <td>870.1</td>\n",
       "      <td>768.3</td>\n",
       "      <td>28</td>\n",
       "      <td>44.28</td>\n",
       "    </tr>\n",
       "    <tr>\n",
       "      <th>1001</th>\n",
       "      <td>322.2</td>\n",
       "      <td>0.0</td>\n",
       "      <td>115.6</td>\n",
       "      <td>196.0</td>\n",
       "      <td>10.4</td>\n",
       "      <td>817.9</td>\n",
       "      <td>813.4</td>\n",
       "      <td>28</td>\n",
       "      <td>31.18</td>\n",
       "    </tr>\n",
       "    <tr>\n",
       "      <th>1002</th>\n",
       "      <td>148.5</td>\n",
       "      <td>139.4</td>\n",
       "      <td>108.6</td>\n",
       "      <td>192.7</td>\n",
       "      <td>6.1</td>\n",
       "      <td>892.4</td>\n",
       "      <td>780.0</td>\n",
       "      <td>28</td>\n",
       "      <td>23.70</td>\n",
       "    </tr>\n",
       "    <tr>\n",
       "      <th>1003</th>\n",
       "      <td>159.1</td>\n",
       "      <td>186.7</td>\n",
       "      <td>0.0</td>\n",
       "      <td>175.6</td>\n",
       "      <td>11.3</td>\n",
       "      <td>989.6</td>\n",
       "      <td>788.9</td>\n",
       "      <td>28</td>\n",
       "      <td>32.77</td>\n",
       "    </tr>\n",
       "    <tr>\n",
       "      <th>1004</th>\n",
       "      <td>260.9</td>\n",
       "      <td>100.5</td>\n",
       "      <td>78.3</td>\n",
       "      <td>200.6</td>\n",
       "      <td>8.6</td>\n",
       "      <td>864.5</td>\n",
       "      <td>761.5</td>\n",
       "      <td>28</td>\n",
       "      <td>32.40</td>\n",
       "    </tr>\n",
       "  </tbody>\n",
       "</table>\n",
       "<p>1005 rows × 9 columns</p>\n",
       "</div>"
      ],
      "text/plain": [
       "      cement  blast_furnace_slag  fly_ash  water  superplasticizer  \\\n",
       "0      540.0                 0.0      0.0  162.0               2.5   \n",
       "1      540.0                 0.0      0.0  162.0               2.5   \n",
       "2      332.5               142.5      0.0  228.0               0.0   \n",
       "3      332.5               142.5      0.0  228.0               0.0   \n",
       "4      198.6               132.4      0.0  192.0               0.0   \n",
       "...      ...                 ...      ...    ...               ...   \n",
       "1000   276.4               116.0     90.3  179.6               8.9   \n",
       "1001   322.2                 0.0    115.6  196.0              10.4   \n",
       "1002   148.5               139.4    108.6  192.7               6.1   \n",
       "1003   159.1               186.7      0.0  175.6              11.3   \n",
       "1004   260.9               100.5     78.3  200.6               8.6   \n",
       "\n",
       "      coarse_aggregate  fine_aggregate   age  concrete_compressive_strength  \n",
       "0               1040.0            676.0   28                          79.99  \n",
       "1               1055.0            676.0   28                          61.89  \n",
       "2                932.0            594.0  270                          40.27  \n",
       "3                932.0            594.0  365                          41.05  \n",
       "4                978.4            825.5  360                          44.30  \n",
       "...                ...              ...  ...                            ...  \n",
       "1000             870.1            768.3   28                          44.28  \n",
       "1001             817.9            813.4   28                          31.18  \n",
       "1002             892.4            780.0   28                          23.70  \n",
       "1003             989.6            788.9   28                          32.77  \n",
       "1004             864.5            761.5   28                          32.40  \n",
       "\n",
       "[1005 rows x 9 columns]"
      ]
     },
     "execution_count": 101,
     "metadata": {},
     "output_type": "execute_result"
    }
   ],
   "source": [
    "df.drop_duplicates(inplace=True)\n",
    "df.reset_index()\n",
    "df.reset_index(drop=True)\n"
   ]
  },
  {
   "cell_type": "code",
   "execution_count": 102,
   "id": "16ede94c",
   "metadata": {},
   "outputs": [
    {
     "name": "stdout",
     "output_type": "stream",
     "text": [
      "<class 'pandas.core.frame.DataFrame'>\n",
      "Index: 1005 entries, 0 to 1029\n",
      "Data columns (total 9 columns):\n",
      " #   Column                         Non-Null Count  Dtype  \n",
      "---  ------                         --------------  -----  \n",
      " 0   cement                         1005 non-null   float64\n",
      " 1   blast_furnace_slag             1005 non-null   float64\n",
      " 2   fly_ash                        1005 non-null   float64\n",
      " 3   water                          1005 non-null   float64\n",
      " 4   superplasticizer               1005 non-null   float64\n",
      " 5   coarse_aggregate               1005 non-null   float64\n",
      " 6   fine_aggregate                 1005 non-null   float64\n",
      " 7   age                            1005 non-null   int64  \n",
      " 8   concrete_compressive_strength  1005 non-null   float64\n",
      "dtypes: float64(8), int64(1)\n",
      "memory usage: 78.5 KB\n"
     ]
    }
   ],
   "source": [
    "df.info()"
   ]
  },
  {
   "cell_type": "code",
   "execution_count": 103,
   "id": "7fe2d8b3",
   "metadata": {},
   "outputs": [
    {
     "data": {
      "text/html": [
       "<div>\n",
       "<style scoped>\n",
       "    .dataframe tbody tr th:only-of-type {\n",
       "        vertical-align: middle;\n",
       "    }\n",
       "\n",
       "    .dataframe tbody tr th {\n",
       "        vertical-align: top;\n",
       "    }\n",
       "\n",
       "    .dataframe thead th {\n",
       "        text-align: right;\n",
       "    }\n",
       "</style>\n",
       "<table border=\"1\" class=\"dataframe\">\n",
       "  <thead>\n",
       "    <tr style=\"text-align: right;\">\n",
       "      <th></th>\n",
       "      <th>cement</th>\n",
       "      <th>blast_furnace_slag</th>\n",
       "      <th>fly_ash</th>\n",
       "      <th>water</th>\n",
       "      <th>superplasticizer</th>\n",
       "      <th>coarse_aggregate</th>\n",
       "      <th>fine_aggregate</th>\n",
       "      <th>age</th>\n",
       "      <th>concrete_compressive_strength</th>\n",
       "    </tr>\n",
       "  </thead>\n",
       "  <tbody>\n",
       "    <tr>\n",
       "      <th>count</th>\n",
       "      <td>1005.000000</td>\n",
       "      <td>1005.000000</td>\n",
       "      <td>1005.000000</td>\n",
       "      <td>1005.000000</td>\n",
       "      <td>1005.000000</td>\n",
       "      <td>1005.000000</td>\n",
       "      <td>1005.000000</td>\n",
       "      <td>1005.000000</td>\n",
       "      <td>1005.000000</td>\n",
       "    </tr>\n",
       "    <tr>\n",
       "      <th>mean</th>\n",
       "      <td>278.631343</td>\n",
       "      <td>72.043483</td>\n",
       "      <td>55.536318</td>\n",
       "      <td>182.075323</td>\n",
       "      <td>6.033234</td>\n",
       "      <td>974.376816</td>\n",
       "      <td>772.688259</td>\n",
       "      <td>45.856716</td>\n",
       "      <td>35.250378</td>\n",
       "    </tr>\n",
       "    <tr>\n",
       "      <th>std</th>\n",
       "      <td>104.344261</td>\n",
       "      <td>86.170807</td>\n",
       "      <td>64.207969</td>\n",
       "      <td>21.339334</td>\n",
       "      <td>5.919967</td>\n",
       "      <td>77.579667</td>\n",
       "      <td>80.340435</td>\n",
       "      <td>63.734692</td>\n",
       "      <td>16.284815</td>\n",
       "    </tr>\n",
       "    <tr>\n",
       "      <th>min</th>\n",
       "      <td>102.000000</td>\n",
       "      <td>0.000000</td>\n",
       "      <td>0.000000</td>\n",
       "      <td>121.800000</td>\n",
       "      <td>0.000000</td>\n",
       "      <td>801.000000</td>\n",
       "      <td>594.000000</td>\n",
       "      <td>1.000000</td>\n",
       "      <td>2.330000</td>\n",
       "    </tr>\n",
       "    <tr>\n",
       "      <th>25%</th>\n",
       "      <td>190.700000</td>\n",
       "      <td>0.000000</td>\n",
       "      <td>0.000000</td>\n",
       "      <td>166.600000</td>\n",
       "      <td>0.000000</td>\n",
       "      <td>932.000000</td>\n",
       "      <td>724.300000</td>\n",
       "      <td>7.000000</td>\n",
       "      <td>23.520000</td>\n",
       "    </tr>\n",
       "    <tr>\n",
       "      <th>50%</th>\n",
       "      <td>265.000000</td>\n",
       "      <td>20.000000</td>\n",
       "      <td>0.000000</td>\n",
       "      <td>185.700000</td>\n",
       "      <td>6.100000</td>\n",
       "      <td>968.000000</td>\n",
       "      <td>780.000000</td>\n",
       "      <td>28.000000</td>\n",
       "      <td>33.800000</td>\n",
       "    </tr>\n",
       "    <tr>\n",
       "      <th>75%</th>\n",
       "      <td>349.000000</td>\n",
       "      <td>142.500000</td>\n",
       "      <td>118.300000</td>\n",
       "      <td>192.900000</td>\n",
       "      <td>10.000000</td>\n",
       "      <td>1031.000000</td>\n",
       "      <td>822.200000</td>\n",
       "      <td>56.000000</td>\n",
       "      <td>44.870000</td>\n",
       "    </tr>\n",
       "    <tr>\n",
       "      <th>max</th>\n",
       "      <td>540.000000</td>\n",
       "      <td>359.400000</td>\n",
       "      <td>200.100000</td>\n",
       "      <td>247.000000</td>\n",
       "      <td>32.200000</td>\n",
       "      <td>1145.000000</td>\n",
       "      <td>992.600000</td>\n",
       "      <td>365.000000</td>\n",
       "      <td>82.600000</td>\n",
       "    </tr>\n",
       "  </tbody>\n",
       "</table>\n",
       "</div>"
      ],
      "text/plain": [
       "            cement  blast_furnace_slag      fly_ash        water  \\\n",
       "count  1005.000000         1005.000000  1005.000000  1005.000000   \n",
       "mean    278.631343           72.043483    55.536318   182.075323   \n",
       "std     104.344261           86.170807    64.207969    21.339334   \n",
       "min     102.000000            0.000000     0.000000   121.800000   \n",
       "25%     190.700000            0.000000     0.000000   166.600000   \n",
       "50%     265.000000           20.000000     0.000000   185.700000   \n",
       "75%     349.000000          142.500000   118.300000   192.900000   \n",
       "max     540.000000          359.400000   200.100000   247.000000   \n",
       "\n",
       "       superplasticizer  coarse_aggregate  fine_aggregate           age  \\\n",
       "count       1005.000000       1005.000000      1005.000000  1005.000000   \n",
       "mean           6.033234        974.376816       772.688259    45.856716   \n",
       "std            5.919967         77.579667        80.340435    63.734692   \n",
       "min            0.000000        801.000000       594.000000     1.000000   \n",
       "25%            0.000000        932.000000       724.300000     7.000000   \n",
       "50%            6.100000        968.000000       780.000000    28.000000   \n",
       "75%           10.000000       1031.000000       822.200000    56.000000   \n",
       "max           32.200000       1145.000000       992.600000   365.000000   \n",
       "\n",
       "       concrete_compressive_strength  \n",
       "count                    1005.000000  \n",
       "mean                       35.250378  \n",
       "std                        16.284815  \n",
       "min                         2.330000  \n",
       "25%                        23.520000  \n",
       "50%                        33.800000  \n",
       "75%                        44.870000  \n",
       "max                        82.600000  "
      ]
     },
     "execution_count": 103,
     "metadata": {},
     "output_type": "execute_result"
    }
   ],
   "source": [
    "df.describe()"
   ]
  },
  {
   "cell_type": "markdown",
   "id": "defa0cd4",
   "metadata": {},
   "source": [
    "DATA VISUALIZATION"
   ]
  },
  {
   "cell_type": "code",
   "execution_count": 104,
   "id": "c568fcbc",
   "metadata": {},
   "outputs": [
    {
     "data": {
      "text/plain": [
       "<Axes: xlabel='cement', ylabel='Count'>"
      ]
     },
     "execution_count": 104,
     "metadata": {},
     "output_type": "execute_result"
    },
    {
     "data": {
      "image/png": "[encoded data removed]",
      "text/plain": [
       "<Figure size 640x480 with 1 Axes>"
      ]
     },
     "metadata": {},
     "output_type": "display_data"
    }
   ],
   "source": [
    "sns.histplot(df['cement'],kde=True)"
   ]
  },
  {
   "cell_type": "code",
   "execution_count": 105,
   "id": "9c6ff718",
   "metadata": {},
   "outputs": [
    {
     "data": {
      "text/plain": [
       "<Axes: xlabel='blast_furnace_slag', ylabel='Count'>"
      ]
     },
     "execution_count": 105,
     "metadata": {},
     "output_type": "execute_result"
    },
    {
     "data": {
      "image/png": "[encoded data removed]",
      "text/plain": [
       "<Figure size 640x480 with 1 Axes>"
      ]
     },
     "metadata": {},
     "output_type": "display_data"
    }
   ],
   "source": [
    "sns.histplot(df['blast_furnace_slag'],kde=True)"
   ]
  },
  {
   "cell_type": "code",
   "execution_count": 106,
   "id": "cc646dd2",
   "metadata": {},
   "outputs": [
    {
     "data": {
      "text/plain": [
       "<Axes: xlabel='coarse_aggregate', ylabel='Count'>"
      ]
     },
     "execution_count": 106,
     "metadata": {},
     "output_type": "execute_result"
    },
    {
     "data": {
      "image/png": "[encoded data removed]",
      "text/plain": [
       "<Figure size 640x480 with 1 Axes>"
      ]
     },
     "metadata": {},
     "output_type": "display_data"
    }
   ],
   "source": [
    "sns.histplot(df['coarse_aggregate'],kde=True)"
   ]
  },
  {
   "cell_type": "code",
   "execution_count": 107,
   "id": "a2c5d94d",
   "metadata": {},
   "outputs": [
    {
     "data": {
      "text/plain": [
       "<Axes: xlabel='fine_aggregate ', ylabel='Count'>"
      ]
     },
     "execution_count": 107,
     "metadata": {},
     "output_type": "execute_result"
    },
    {
     "data": {
      "image/png": "[encoded data removed]",
      "text/plain": [
       "<Figure size 640x480 with 1 Axes>"
      ]
     },
     "metadata": {},
     "output_type": "display_data"
    }
   ],
   "source": [
    "sns.histplot(df['fine_aggregate '],kde=True)"
   ]
  },
  {
   "cell_type": "code",
   "execution_count": 108,
   "id": "f4987899",
   "metadata": {},
   "outputs": [
    {
     "data": {
      "text/plain": [
       "<Axes: xlabel='fly_ash', ylabel='Count'>"
      ]
     },
     "execution_count": 108,
     "metadata": {},
     "output_type": "execute_result"
    },
    {
     "data": {
      "image/png": "[encoded data removed]",
      "text/plain": [
       "<Figure size 640x480 with 1 Axes>"
      ]
     },
     "metadata": {},
     "output_type": "display_data"
    }
   ],
   "source": [
    "sns.histplot(df['fly_ash'],kde=True)"
   ]
  },
  {
   "cell_type": "code",
   "execution_count": 109,
   "id": "42fbe326",
   "metadata": {},
   "outputs": [
    {
     "data": {
      "text/plain": [
       "<Axes: xlabel='water', ylabel='Count'>"
      ]
     },
     "execution_count": 109,
     "metadata": {},
     "output_type": "execute_result"
    },
    {
     "data": {
      "image/png": "[encoded data removed]",
      "text/plain": [
       "<Figure size 640x480 with 1 Axes>"
      ]
     },
     "metadata": {},
     "output_type": "display_data"
    }
   ],
   "source": [
    "sns.histplot(df['water'],kde=True)"
   ]
  },
  {
   "cell_type": "code",
   "execution_count": 110,
   "id": "48e4820d",
   "metadata": {},
   "outputs": [
    {
     "data": {
      "text/plain": [
       "<Axes: xlabel='superplasticizer', ylabel='Count'>"
      ]
     },
     "execution_count": 110,
     "metadata": {},
     "output_type": "execute_result"
    },
    {
     "data": {
      "image/png": "[encoded data removed]",
      "text/plain": [
       "<Figure size 640x480 with 1 Axes>"
      ]
     },
     "metadata": {},
     "output_type": "display_data"
    }
   ],
   "source": [
    "sns.histplot(df['superplasticizer'],kde=True)"
   ]
  },
  {
   "cell_type": "code",
   "execution_count": 111,
   "id": "470f925d",
   "metadata": {},
   "outputs": [
    {
     "data": {
      "text/plain": [
       "<Axes: xlabel='age', ylabel='Count'>"
      ]
     },
     "execution_count": 111,
     "metadata": {},
     "output_type": "execute_result"
    },
    {
     "data": {
      "image/png": "[encoded data removed]",
      "text/plain": [
       "<Figure size 640x480 with 1 Axes>"
      ]
     },
     "metadata": {},
     "output_type": "display_data"
    }
   ],
   "source": [
    "sns.histplot(df['age'],kde=True)"
   ]
  },
  {
   "cell_type": "code",
   "execution_count": 112,
   "id": "c9596777",
   "metadata": {},
   "outputs": [
    {
     "data": {
      "text/plain": [
       "cement                           0.564959\n",
       "blast_furnace_slag               0.855225\n",
       "fly_ash                          0.497231\n",
       "water                            0.034433\n",
       "superplasticizer                 0.980604\n",
       "coarse_aggregate                -0.065256\n",
       "fine_aggregate                  -0.252353\n",
       "age                              3.253974\n",
       "concrete_compressive_strength    0.395696\n",
       "dtype: float64"
      ]
     },
     "execution_count": 112,
     "metadata": {},
     "output_type": "execute_result"
    }
   ],
   "source": [
    "df.skew()"
   ]
  },
  {
   "cell_type": "code",
   "execution_count": 113,
   "id": "90388a27",
   "metadata": {},
   "outputs": [
    {
     "data": {
      "text/plain": [
       "<Axes: >"
      ]
     },
     "execution_count": 113,
     "metadata": {},
     "output_type": "execute_result"
    },
    {
     "data": {
      "image/png": "[encoded data removed]",
      "text/plain": [
       "<Figure size 640x480 with 2 Axes>"
      ]
     },
     "metadata": {},
     "output_type": "display_data"
    }
   ],
   "source": [
    "\n",
    "sns.heatmap(df.corr(),annot=True)"
   ]
  },
  {
   "cell_type": "markdown",
   "id": "d8997c1b",
   "metadata": {},
   "source": [
    "MACHINE LEARNING MODELS"
   ]
  },
  {
   "cell_type": "code",
   "execution_count": 114,
   "id": "ba623997",
   "metadata": {},
   "outputs": [],
   "source": [
    "x=df.drop('concrete_compressive_strength',axis=1)\n",
    "y=df['concrete_compressive_strength']"
   ]
  },
  {
   "cell_type": "code",
   "execution_count": 115,
   "id": "4bd60b83",
   "metadata": {},
   "outputs": [],
   "source": [
    "x_train,x_test,y_train,y_test=train_test_split(x,y,test_size=0.20,random_state=42)"
   ]
  },
  {
   "cell_type": "markdown",
   "id": "6c4ebb5a",
   "metadata": {},
   "source": [
    "Linear Regression Model"
   ]
  },
  {
   "cell_type": "code",
   "execution_count": 116,
   "id": "7991c5c4",
   "metadata": {},
   "outputs": [
    {
     "name": "stdout",
     "output_type": "stream",
     "text": [
      "R2 Score: 0.5801703029028777\n",
      "Mean Absolute Error: 8.895256221464193\n",
      "Mean Squared Error: 125.2456480505019\n",
      "Root Mean Squared Error: 11.191320210346136\n"
     ]
    }
   ],
   "source": [
    "from sklearn.preprocessing import StandardScaler\n",
    "scaler=StandardScaler()\n",
    "x_trainl=scaler.fit_transform(x_train)\n",
    "x_testl=scaler.transform(x_test)\n",
    "from sklearn.linear_model import LinearRegression\n",
    "modell=LinearRegression()\n",
    "modell.fit(x_trainl,y_train)\n",
    "y_predl=modell.predict(x_testl)\n",
    "from sklearn.metrics import r2_score,mean_absolute_error,mean_squared_error,root_mean_squared_error\n",
    "print(\"R2 Score:\",r2_score(y_test,y_predl))\n",
    "print(\"Mean Absolute Error:\",mean_absolute_error(y_test,y_predl))\n",
    "print(\"Mean Squared Error:\",mean_squared_error(y_test,y_predl))\n",
    "print(\"Root Mean Squared Error:\",root_mean_squared_error(y_test,y_predl))"
   ]
  },
  {
   "cell_type": "markdown",
   "id": "406a6012",
   "metadata": {},
   "source": [
    "KNN REGRESSION"
   ]
  },
  {
   "cell_type": "code",
   "execution_count": 117,
   "id": "eefb448e",
   "metadata": {},
   "outputs": [
    {
     "name": "stdout",
     "output_type": "stream",
     "text": [
      "R2 Score: 0.7259852417495993\n",
      "Mean Absolute Error: 6.838059701492537\n",
      "Mean Squared Error: 81.7454225124378\n",
      "Root Mean Squared Error: 9.041317520828356\n"
     ]
    },
    {
     "name": "stderr",
     "output_type": "stream",
     "text": [
      "c:\\Users\\sanja\\Desktop\\Main Project\\venv\\Lib\\site-packages\\sklearn\\model_selection\\_validation.py:516: FitFailedWarning: \n",
      "20 fits failed out of a total of 40.\n",
      "The score on these train-test partitions for these parameters will be set to nan.\n",
      "If these failures are not expected, you can try to debug them by setting error_score='raise'.\n",
      "\n",
      "Below are more details about the failures:\n",
      "--------------------------------------------------------------------------------\n",
      "20 fits failed with the following error:\n",
      "Traceback (most recent call last):\n",
      "  File \"c:\\Users\\sanja\\Desktop\\Main Project\\venv\\Lib\\site-packages\\sklearn\\model_selection\\_validation.py\", line 859, in _fit_and_score\n",
      "    estimator.fit(X_train, y_train, **fit_params)\n",
      "    ~~~~~~~~~~~~~^^^^^^^^^^^^^^^^^^^^^^^^^^^^^^^^\n",
      "  File \"c:\\Users\\sanja\\Desktop\\Main Project\\venv\\Lib\\site-packages\\sklearn\\base.py\", line 1358, in wrapper\n",
      "    estimator._validate_params()\n",
      "    ~~~~~~~~~~~~~~~~~~~~~~~~~~^^\n",
      "  File \"c:\\Users\\sanja\\Desktop\\Main Project\\venv\\Lib\\site-packages\\sklearn\\base.py\", line 471, in _validate_params\n",
      "    validate_parameter_constraints(\n",
      "    ~~~~~~~~~~~~~~~~~~~~~~~~~~~~~~^\n",
      "        self._parameter_constraints,\n",
      "        ^^^^^^^^^^^^^^^^^^^^^^^^^^^^\n",
      "        self.get_params(deep=False),\n",
      "        ^^^^^^^^^^^^^^^^^^^^^^^^^^^^\n",
      "        caller_name=self.__class__.__name__,\n",
      "        ^^^^^^^^^^^^^^^^^^^^^^^^^^^^^^^^^^^^\n",
      "    )\n",
      "    ^\n",
      "  File \"c:\\Users\\sanja\\Desktop\\Main Project\\venv\\Lib\\site-packages\\sklearn\\utils\\_param_validation.py\", line 98, in validate_parameter_constraints\n",
      "    raise InvalidParameterError(\n",
      "    ...<2 lines>...\n",
      "    )\n",
      "sklearn.utils._param_validation.InvalidParameterError: The 'algorithm' parameter of KNeighborsRegressor must be a str among {'ball_tree', 'auto', 'brute', 'kd_tree'}. Got '‘kd_tree' instead.\n",
      "\n",
      "  warnings.warn(some_fits_failed_message, FitFailedWarning)\n",
      "c:\\Users\\sanja\\Desktop\\Main Project\\venv\\Lib\\site-packages\\sklearn\\model_selection\\_search.py:1135: UserWarning: One or more of the test scores are non-finite: [0.6391707  0.63422982 0.63475192 0.64189532        nan        nan\n",
      "        nan        nan]\n",
      "  warnings.warn(\n"
     ]
    }
   ],
   "source": [
    "from sklearn.neighbors import KNeighborsRegressor\n",
    "modelk=KNeighborsRegressor()\n",
    "params={\n",
    "    \"n_neighbors\":[5,6,7,4],\n",
    "    \"algorithm\":['ball_tree','‘kd_tree'],\n",
    "}\n",
    "search=GridSearchCV(estimator=modelk,param_grid=params)\n",
    "search.fit(x_trainl,y_train)\n",
    "y_predk=search.predict(x_testl)\n",
    "print(\"R2 Score:\",r2_score(y_test,y_predk))\n",
    "print(\"Mean Absolute Error:\",mean_absolute_error(y_test,y_predk))\n",
    "print(\"Mean Squared Error:\",mean_squared_error(y_test,y_predk))\n",
    "print(\"Root Mean Squared Error:\",root_mean_squared_error(y_test,y_predk))"
   ]
  },
  {
   "cell_type": "markdown",
   "id": "3df422a8",
   "metadata": {},
   "source": [
    "RIDGE AND LASSO"
   ]
  },
  {
   "cell_type": "code",
   "execution_count": 118,
   "id": "e4aff748",
   "metadata": {},
   "outputs": [
    {
     "name": "stdout",
     "output_type": "stream",
     "text": [
      "R2 Score: 0.5800177441313283\n",
      "Mean Absolute Error: 8.897597667613265\n",
      "Mean Squared Error: 125.2911601291867\n",
      "Root Mean Squared Error: 11.193353390704088\n"
     ]
    }
   ],
   "source": [
    "params={\"alphas\":[1.0,0.1,0.01],\n",
    "        }\n",
    "from sklearn.linear_model import RidgeCV\n",
    "modelr=RidgeCV()\n",
    "modelr.fit(x_trainl,y_train)\n",
    "searchr=GridSearchCV(estimator=modelr,param_grid=params,cv=5)\n",
    "searchr.fit(x_trainl,y_train)\n",
    "y_predr=searchr.predict(x_testl)\n",
    "print(\"R2 Score:\",r2_score(y_test,y_predr))\n",
    "print(\"Mean Absolute Error:\",mean_absolute_error(y_test,y_predr))\n",
    "print(\"Mean Squared Error:\",mean_squared_error(y_test,y_predr))\n",
    "print(\"Root Mean Squared Error:\",root_mean_squared_error(y_test,y_predr))\n"
   ]
  },
  {
   "cell_type": "markdown",
   "id": "64382546",
   "metadata": {},
   "source": [
    "LASSO"
   ]
  },
  {
   "cell_type": "code",
   "execution_count": 119,
   "id": "a79cd0ea",
   "metadata": {},
   "outputs": [
    {
     "name": "stdout",
     "output_type": "stream",
     "text": [
      "R2 Score: 0.5800606775768027\n",
      "Mean Absolute Error: 8.89694100119554\n",
      "Mean Squared Error: 125.27835201380407\n",
      "Root Mean Squared Error: 11.192781245687064\n"
     ]
    }
   ],
   "source": [
    "from sklearn.linear_model import LassoCV\n",
    "modellas=LassoCV()\n",
    "modellas.fit(x_trainl,y_train)\n",
    "y_predlas=modellas.predict(x_testl)\n",
    "print(\"R2 Score:\",r2_score(y_test,y_predlas))\n",
    "print(\"Mean Absolute Error:\",mean_absolute_error(y_test,y_predlas))\n",
    "print(\"Mean Squared Error:\",mean_squared_error(y_test,y_predlas))\n",
    "print(\"Root Mean Squared Error:\",root_mean_squared_error(y_test,y_predlas))\n"
   ]
  },
  {
   "cell_type": "markdown",
   "id": "c10618d9",
   "metadata": {},
   "source": [
    "POLYNOMIAL REGRESSION"
   ]
  },
  {
   "cell_type": "code",
   "execution_count": 120,
   "id": "1278eb32",
   "metadata": {},
   "outputs": [
    {
     "name": "stdout",
     "output_type": "stream",
     "text": [
      "R2 Score: 0.7686333457818475\n",
      "Mean Absolute Error: 6.219881312315877\n",
      "Mean Squared Error: 69.02243158402699\n",
      "Root Mean Squared Error: 8.307973975887682\n"
     ]
    }
   ],
   "source": [
    "from sklearn.preprocessing import PolynomialFeatures\n",
    "poly=PolynomialFeatures(degree=2)\n",
    "x_poly=poly.fit_transform(x_trainl)\n",
    "x_test_poly=poly.transform(x_testl)\n",
    "modelpoly=LinearRegression()\n",
    "modelpoly.fit(x_poly,y_train)\n",
    "y_pred_poly=modelpoly.predict(x_test_poly)\n",
    "print(\"R2 Score:\",r2_score(y_test,y_pred_poly))\n",
    "print(\"Mean Absolute Error:\",mean_absolute_error(y_test,y_pred_poly))\n",
    "print(\"Mean Squared Error:\",mean_squared_error(y_test,y_pred_poly))\n",
    "print(\"Root Mean Squared Error:\",root_mean_squared_error(y_test,y_pred_poly))"
   ]
  },
  {
   "cell_type": "markdown",
   "id": "34890082",
   "metadata": {},
   "source": [
    "SVM"
   ]
  },
  {
   "cell_type": "code",
   "execution_count": 121,
   "id": "624a7425",
   "metadata": {},
   "outputs": [
    {
     "name": "stdout",
     "output_type": "stream",
     "text": [
      "R2 Score: 0.6000686724189401\n",
      "Mean Absolute Error: 8.34430876897251\n",
      "Mean Squared Error: 119.3094691607769\n",
      "Root Mean Squared Error: 10.922887400352385\n"
     ]
    }
   ],
   "source": [
    "from sklearn.svm import SVR\n",
    "modelsvr=SVR()\n",
    "modelsvr.fit(x_trainl,y_train)\n",
    "y_predsvr=modelsvr.predict(x_testl)\n",
    "print(\"R2 Score:\",r2_score(y_test,y_predsvr))\n",
    "print(\"Mean Absolute Error:\",mean_absolute_error(y_test,y_predsvr))\n",
    "print(\"Mean Squared Error:\",mean_squared_error(y_test,y_predsvr))\n",
    "print(\"Root Mean Squared Error:\",root_mean_squared_error(y_test,y_predsvr))"
   ]
  },
  {
   "cell_type": "markdown",
   "id": "3820fa42",
   "metadata": {},
   "source": [
    "DECISION TREE"
   ]
  },
  {
   "cell_type": "code",
   "execution_count": 122,
   "id": "790ee6c4",
   "metadata": {},
   "outputs": [
    {
     "name": "stdout",
     "output_type": "stream",
     "text": [
      "R2 Score: 0.8741951865433747\n",
      "Mean Absolute Error: 3.8900746268656716\n",
      "Mean Squared Error: 37.530707089552244\n",
      "Root Mean Squared Error: 6.1262310672673985\n"
     ]
    }
   ],
   "source": [
    "from sklearn.tree import DecisionTreeRegressor\n",
    "modeld=DecisionTreeRegressor()\n",
    "modeld.fit(x_train,y_train)\n",
    "params = {\n",
    "        \"max_depth\": [5,10,20],\n",
    "    }\n",
    "searchtree=GridSearchCV(estimator=modeld,param_grid=params,cv=5)\n",
    "y_predd=modeld.predict(x_test)\n",
    "print(\"R2 Score:\",r2_score(y_test,y_predd))\n",
    "print(\"Mean Absolute Error:\",mean_absolute_error(y_test,y_predd))\n",
    "print(\"Mean Squared Error:\",mean_squared_error(y_test,y_predd))\n",
    "print(\"Root Mean Squared Error:\",root_mean_squared_error(y_test,y_predd))\n"
   ]
  },
  {
   "cell_type": "markdown",
   "id": "205b8f9b",
   "metadata": {},
   "source": [
    "RANDOM FOREST"
   ]
  },
  {
   "cell_type": "code",
   "execution_count": 123,
   "id": "0186e3ef",
   "metadata": {},
   "outputs": [
    {
     "name": "stdout",
     "output_type": "stream",
     "text": [
      "{'max_depth': 20, 'min_samples_split': 2}\n",
      "R2 Score: 0.9101965649519578\n",
      "Mean Absolute Error: 3.532424925373136\n",
      "Mean Squared Error: 26.790599849231807\n",
      "Root Mean Squared Error: 5.175963663824525\n"
     ]
    }
   ],
   "source": [
    "from sklearn.ensemble import RandomForestRegressor\n",
    "modelrd=RandomForestRegressor()\n",
    "modelrd.fit(x_train,y_train)\n",
    "params = {\n",
    "        \"max_depth\": [4,5,10,20],\n",
    "        \"min_samples_split\": [2,5,10],\n",
    "    }\n",
    "searchrrandom=GridSearchCV(estimator=modelrd,param_grid=params,cv=5)\n",
    "searchrrandom.fit(x_train,y_train)\n",
    "print(searchrrandom.best_params_)\n",
    "modelrd=RandomForestRegressor(max_depth=20, min_samples_split=2)\n",
    "modelrd.fit(x_train,y_train)\n",
    "y_predrd=searchrrandom.predict(x_test)\n",
    "print(\"R2 Score:\",r2_score(y_test,y_predrd))\n",
    "print(\"Mean Absolute Error:\",mean_absolute_error(y_test,y_predrd))\n",
    "print(\"Mean Squared Error:\",mean_squared_error(y_test,y_predrd))\n",
    "print(\"Root Mean Squared Error:\",root_mean_squared_error(y_test,y_predrd))\n"
   ]
  },
  {
   "cell_type": "markdown",
   "id": "08ee8499",
   "metadata": {},
   "source": [
    "Boosting"
   ]
  },
  {
   "cell_type": "code",
   "execution_count": 124,
   "id": "15188310",
   "metadata": {},
   "outputs": [
    {
     "name": "stdout",
     "output_type": "stream",
     "text": [
      "R2 Score: 0.806167847594964\n",
      "Mean Absolute Error: 6.061760572260706\n",
      "Mean Squared Error: 57.824955473257766\n",
      "Root Mean Squared Error: 7.604272185637345\n"
     ]
    }
   ],
   "source": [
    "from sklearn.ensemble import AdaBoostRegressor\n",
    "modela=AdaBoostRegressor()\n",
    "para={\n",
    "    \"n_estimators\":[50,100,150],\n",
    "    \"learning_rate\":[0.1,1.0],\n",
    "    \"loss\":['linear','square']\n",
    "}\n",
    "searchaddaboost=GridSearchCV(estimator=modela,param_grid=para,cv=5)\n",
    "searchaddaboost.fit(x_train,y_train)\n",
    "y_preda=searchaddaboost.predict(x_test)\n",
    "print(\"R2 Score:\",r2_score(y_test,y_preda))\n",
    "print(\"Mean Absolute Error:\",mean_absolute_error(y_test,y_preda))\n",
    "print(\"Mean Squared Error:\",mean_squared_error(y_test,y_preda))\n",
    "print(\"Root Mean Squared Error:\",root_mean_squared_error(y_test,y_preda))"
   ]
  },
  {
   "cell_type": "code",
   "execution_count": null,
   "id": "99f36a35",
   "metadata": {},
   "outputs": [
    {
     "name": "stdout",
     "output_type": "stream",
     "text": [
      "R2 Score: 0.8950623572872705\n",
      "Mean Absolute Error: 4.115803792023863\n",
      "Mean Squared Error: 31.305510680459026\n",
      "Root Mean Squared Error: 5.595132767009111\n"
     ]
    }
   ],
   "source": [
    "from sklearn.ensemble import GradientBoostingRegressor\n",
    "modelg=GradientBoostingRegressor()\n",
    "modelg.fit(x_train,y_train)\n",
    "params= {\n",
    "        \"n_estimators\": [100, 200, 300],\n",
    "        \"learning_rate\": [0.01, 0.05, 0.1],\n",
    "        \"max_depth\": [3, 5, 7]\n",
    "    }\n",
    "searchgradient=GridSearchCV(estimator=modelg,param_grid=params,cv=5)\n",
    "searchgradient.fit(x_train,y_train)\n",
    "y_predg=modelg.predict(x_test)\n",
    "print(\"R2 Score:\",r2_score(y_test,y_predg))\n",
    "print(\"Mean Absolute Error:\",mean_absolute_error(y_test,y_predg))\n",
    "print(\"Mean Squared Error:\",mean_squared_error(y_test,y_predg))\n",
    "print(\"Root Mean Squared Error:\",root_mean_squared_error(y_test,y_predg))"
   ]
  },
  {
   "cell_type": "code",
   "execution_count": 126,
   "id": "c41d1bc6",
   "metadata": {},
   "outputs": [],
   "source": [
    "import pickle\n",
    "model=pickle.dump(modelrd,open('model.pkl','wb'))"
   ]
  }
 ],
 "metadata": {
  "kernelspec": {
   "display_name": "venv",
   "language": "python",
   "name": "python3"
  },
  "language_info": {
   "codemirror_mode": {
    "name": "ipython",
    "version": 3
   },
   "file_extension": ".py",
   "mimetype": "text/x-python",
   "name": "python",
   "nbconvert_exporter": "python",
   "pygments_lexer": "ipython3",
   "version": "3.13.5"
  }
 },
 "nbformat": 4,
 "nbformat_minor": 5
}
